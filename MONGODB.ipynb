{
 "cells": [
  {
   "cell_type": "markdown",
   "metadata": {},
   "source": [
    "# MONGODB"
   ]
  },
  {
   "cell_type": "markdown",
   "metadata": {},
   "source": [
    "##### MongoDB is an open-source document database and leading NoSQL database. MongoDB is written in C++"
   ]
  },
  {
   "cell_type": "markdown",
   "metadata": {},
   "source": [
    "###### MongoDB is a cross-platform, document oriented database that provides, high performance, high availability, and easy scalability. MongoDB works on concept of collection and document."
   ]
  },
  {
   "cell_type": "markdown",
   "metadata": {},
   "source": [
    "# WHAT IS NoSQL"
   ]
  },
  {
   "cell_type": "markdown",
   "metadata": {},
   "source": [
    " NoSQL, which stand for \"not only SQL,\" is an alternative to traditional relational databases in which data is placed in tables and data schema is carefully designed before the database is built. NoSQL databases are especially useful for working with large sets of distributed data.\n",
    " \n",
    " NoSQL databases are either schema-free or have relaxed schemas\n",
    "Do not require any sort of definition of the schema of the data\n",
    "Offers heterogeneous structures of data in the same domain\n",
    "\n",
    "There are mainly four categories of NoSQL databases. Each of these categories has its unique attributes and limitations. No specific database is better to solve all problems. You should select a database based on your product needs.\n",
    "\n",
    "Let see all of them:\n",
    "\n",
    "Key-value Pair Based\n",
    "Column-oriented Graph\n",
    "Graphs based\n",
    "Document-oriented\n",
    "\n",
    "#### Key Value Pair Based\n",
    "Data is stored in key/value pairs. It is designed in such a way to handle lots of data and heavy load.\n",
    "\n",
    "Key-value pair storage databases store data as a hash table where each key is unique, and the value can be a JSON, BLOB(Binary Large Objects), string, etc.\n",
    "\n",
    "name:pratiksha\n",
    "college:COEP\n",
    "\n",
    "#### Column-based\n",
    "In column-oriented NoSQL database, data is stored in cells grouped in columns of data rather than as rows of data. Columns are logically grouped into column families. Column families can contain a virtually unlimited number of columns that can be created at runtime or the definition of the schema. Read and write is done using columns rather than rows.\n",
    "\n",
    "In comparison, most relational DBMS store data in rows, the benefit of storing data in columns, is fast search/ access and data aggregation. Relational databases store a single row as a continuous disk entry. Different rows are stored in different places on disk while Columnar databases store all the cells corresponding to a column as a continuous disk entry thus makes the search/access faster.\n",
    "\n",
    "#### Document-Oriented:\n",
    "The data which is a collection of key value pairs is compressed as a document store quite similar to a key-value store, but the only difference is that the values stored (referred to as “documents”) provide some structure and encoding of the managed data. XML, JSON (Java Script Object Notation), BSON (which is a binary encoding of JSON objects) are some common standard encodings.\n",
    "\n",
    "The following example shows data values collected as a “document” representing the names of specific retail stores. Note that while the three examples all represent locations, the representative models are different.\n",
    "\n",
    "{officeName:”3Pillar Noida”, \n",
    "{Street: “B-25, City:”Noida”, State:”UP”, Pincode:”201301”}\n",
    "}\n",
    "\n",
    "{officeName:”3Pillar Timisoara”,\n",
    "{Boulevard:”Coriolan Brediceanu No. 10”, Block:”B, Ist Floor”, City: “Timisoara”, Pincode: 300011”}\n",
    "}\n",
    "\n",
    "{officeName:”3Pillar Cluj”,\n",
    "{Latitude:”40.748328”, Longitude:”-73.985560”}\n",
    "}.\n",
    "\n",
    "#### Graph-Based\n",
    "A graph type database stores entities as well the relations amongst those entities. The entity is stored as a node with the relationship as edges. An edge gives a relationship between nodes. Every node and edge has a unique identifier.\n",
    "\n"
   ]
  },
  {
   "cell_type": "markdown",
   "metadata": {},
   "source": [
    "# SQL vs NoSQL: High-Level Differences"
   ]
  },
  {
   "cell_type": "markdown",
   "metadata": {},
   "source": [
    "##### SQL databases are table based databases whereas NoSQL databases are document based, key-value pairs, graph databases or wide-column stores. This means that SQL databases represent data in form of tables which consists of n number of rows of data whereas NoSQL databases are the collection of key-value pair, documents, graph databases or wide-column stores which do not have standard schema definitions which it needs to adhered to.\n",
    "\n",
    "##### SQL databases have predefined schema whereas NoSQL databases have dynamic schema for unstructured data.\n",
    "            \n",
    "            SQL--\n",
    "                \tStructure and data types are fixed in advance. To store information about a new data item, the entire database must be altered, during which time the database must be taken offline.\n",
    "                   \n",
    "            NOSQL --\n",
    "                     Typically dynamic, with some enforcing data validation rules. Applications can add new fields on the fly, and unlike SQL table rows, dissimilar data can be stored together as necessary. For some databases (e.g., wide-column stores), it is somewhat more challenging to add new fields dynamically.\n",
    "                    \n",
    "\n",
    "##### Data Storage Model\n",
    "            SQL --\n",
    "                    Individual records (e.g., 'employees') are stored as rows in tables, with each column storing a specific piece of data about that record (e.g., 'manager,' 'date hired,' etc.), much like a spreadsheet. Related data is stored in separate tables, and then joined together when more complex queries are executed. For example, 'offices' might be stored in one table, and 'employees' in another. When a user wants to find the work address of an employee, the database engine joins the 'employee' and 'office' tables together to get all the information necessary.\n",
    "                \n",
    "            NOSQL --\n",
    "                        Varies based on database type. For example, key-value stores function similarly to SQL databases, but have only two columns ('key' and 'value'), with more complex information sometimes stored as BLOBs within the 'value' columns\n",
    "                    \n",
    "\n",
    "\n",
    "##### SQL databases are vertically scalable whereas the NoSQL databases are horizontally scalable. SQL databases are scaled by increasing the horse-power of the hardware. NoSQL databases are scaled by increasing the databases servers in the pool of resources to reduce the load. \n",
    "\n",
    "       Horizontal scaling means that you scale by adding more machines into your pool of resources whereas Vertical scaling means that you scale by adding more power (CPU, RAM) to an existing machine.\n",
    "        An easy way to remember this is to think of a machine on a server rack, we add more machines across the horizontal direction and add more resources to a machine in the vertical direction.\n",
    "\n",
    "\n",
    "##### SQL databases uses SQL ( structured query language ) for defining and manipulating the data, which is very powerful. In NoSQL database, queries are focused on collection of documents. Sometimes it is also called as UnQL (Unstructured Query Language). The syntax of using UnQL varies from database to database.\n",
    "\n",
    "##### SQL database examples: MySql, Oracle, Sqlite, Postgres and MS-SQL. NoSQL database examples: MongoDB, BigTable, Redis, RavenDb, Cassandra, Hbase, Neo4j and CouchDb\n",
    "\n",
    "#####  SQL databases emphasizes on ACID properties ( Atomicity, Consistency, Isolation and Durability) whereas the NoSQL database follows the Brewers CAP theorem ( Consistency, Availability and Partition tolerance )"
   ]
  },
  {
   "cell_type": "markdown",
   "metadata": {},
   "source": [
    "## Database"
   ]
  },
  {
   "cell_type": "markdown",
   "metadata": {},
   "source": [
    "Database is a physical container for collections. Each database gets its own set of files on the file system.\n",
    "\n",
    "A single MongoDB server typically has multiple databases.\n",
    "\n"
   ]
  },
  {
   "cell_type": "markdown",
   "metadata": {},
   "source": [
    "## Collection"
   ]
  },
  {
   "cell_type": "markdown",
   "metadata": {},
   "source": [
    "Collection is a group of MongoDB documents. It is the equivalent of an RDBMS table. \n",
    "\n",
    "A collection exists within a single database. Collections do not enforce a schema. Documents within a collection can have different fields. \n",
    "\n",
    "Typically, all documents in a collection are of similar or related purpose."
   ]
  },
  {
   "cell_type": "markdown",
   "metadata": {},
   "source": [
    "## Document"
   ]
  },
  {
   "cell_type": "markdown",
   "metadata": {},
   "source": [
    "A document is a set of key-value pairs. Documents have dynamic schema.\n",
    "Dynamic schema means that documents in the same collection do not need to have the same set of fields or structure, and common fields in a collection's documents may hold different types of data."
   ]
  },
  {
   "cell_type": "markdown",
   "metadata": {},
   "source": [
    "###### The following table shows the relationship of RDBMS terminology with MongoDB."
   ]
  },
  {
   "cell_type": "markdown",
   "metadata": {},
   "source": []
  },
  {
   "cell_type": "raw",
   "metadata": {},
   "source": [
    "RDBMS\t         |          MongoDB\n",
    "                 |\n",
    "Database\t     |         Database\n",
    "                 |\n",
    "Table\t         |        Collection\n",
    "                 | \n",
    "Tuple/Row\t     |        Document\n",
    "                 |\n",
    "column\t         |         Field\n",
    "                 |\n",
    "Table Join\t     |        Embedded Documents\n",
    "                 |\n",
    "Primary Key\t     |        Primary Key (Default key _id provided by mongodb itself)\n",
    "\n",
    "\n",
    "####    Database Server and Client\n",
    "\n",
    "Mysqld/Oracle\t    |      mongod\n",
    "                    |\n",
    "mysql/sqlplus\t    |     mongo"
   ]
  },
  {
   "cell_type": "markdown",
   "metadata": {},
   "source": [
    "### Sample Document\n"
   ]
  },
  {
   "cell_type": "raw",
   "metadata": {},
   "source": [
    "{\n",
    "   _id: ObjectId(7df78ad8902c)\n",
    "   title: 'MongoDB Overview', \n",
    "   description: 'MongoDB is no sql database',\n",
    "   by: 'tutorials point',\n",
    "   url: 'http://www.tutorialspoint.com',\n",
    "   tags: ['mongodb', 'database', 'NoSQL'],\n",
    "   likes: 100, \n",
    "   comments: [\t\n",
    "      {\n",
    "         user:'user1',\n",
    "         message: 'My first comment',\n",
    "         dateCreated: new Date(2011,1,20,2,15),\n",
    "         like: 0 \n",
    "      },\n",
    "      {\n",
    "         user:'user2',\n",
    "         message: 'My second comments',\n",
    "         dateCreated: new Date(2011,1,25,7,45),\n",
    "         like: 5\n",
    "      }\n",
    "   ]\n",
    "}"
   ]
  },
  {
   "cell_type": "markdown",
   "metadata": {},
   "source": [
    "###### Any relational database has a typical schema design that shows number of tables and the relationship between these tables. While in MongoDB, there is no concept of relationship"
   ]
  },
  {
   "cell_type": "markdown",
   "metadata": {},
   "source": [
    "### Advantages of MongoDB over RDBMS"
   ]
  },
  {
   "cell_type": "markdown",
   "metadata": {},
   "source": [
    "###### 1. Schema less − MongoDB is a document database in which one collection holds different documents. Number of fields, content and size of the document can differ from one document to another.\n",
    "\n",
    "###### 2. Ease of scale-out − MongoDB is easy to scale\n",
    "\n",
    "###### 3. No complex joins. Embedded documents\n",
    "\n",
    "###### 4. Deep query-ability. MongoDB supports dynamic queries on documents using a document-based query language that's nearly as powerful as SQL.\n",
    "\n",
    "###### 5. Uses internal memory for storing the (windowed) working set, enabling faster access of data.\n",
    "\n",
    "Ease of scale-out: MongoDB is easy to scale by adding commodity hardware\n",
    "\n",
    "Conversion / mapping of application objects to database objects not needed since MongoDB uses object notation to represent data structures\n",
    "\n",
    "Schemaless: MongoDB is document database in which one collection holds different documents.\n",
    "\n",
    "Uses internal memory for storing the working set, enabling faster access of data\n",
    "\n",
    "A document-based data model.The basic unit of storage is analogous to JSON, Python dictionaries, Ruby hashes, etc. This is a rich data structure capable of holding arrays and other documents.\n",
    "\n",
    "A clear path to horizontal scalability.\n",
    "\n",
    "Structure of a single object is clear and well defined\n",
    "\n",
    "No complex joins required to bring together related data\n",
    "\n",
    "Deep query-ability. MongoDB supports dynamic queries on documents using a document-based query language that's nearly as powerful as SQL"
   ]
  },
  {
   "cell_type": "markdown",
   "metadata": {},
   "source": [
    "### Why Use MongoDB?\n"
   ]
  },
  {
   "cell_type": "markdown",
   "metadata": {},
   "source": [
    "###### Document Oriented Storage − Data is stored in the form of JSON style documents.\n",
    "\n",
    "######  Index on any attribute\n",
    "\n",
    "###### Replication and high availability\n",
    "\n",
    "######  Auto-sharding\n",
    "\n",
    "######  Rich queries\n",
    "\n",
    "######  Fast in-place updates\n"
   ]
  },
  {
   "cell_type": "markdown",
   "metadata": {},
   "source": [
    "### Where to Use MongoDB?"
   ]
  },
  {
   "cell_type": "markdown",
   "metadata": {},
   "source": [
    "###### Big Data\n",
    "\n",
    "###### Content Management and Delivery\n",
    "\n",
    "###### Mobile and Social Infrastructure\n",
    "\n",
    "###### User Data Management\n",
    "\n",
    "###### Data Hub"
   ]
  },
  {
   "cell_type": "markdown",
   "metadata": {},
   "source": [
    "# MongoDB - Data Modelling"
   ]
  },
  {
   "cell_type": "markdown",
   "metadata": {},
   "source": [
    "Data in MongoDB has a flexible schema.documents in the same collection. They do not need to have the same set of fields or structure"
   ]
  },
  {
   "cell_type": "markdown",
   "metadata": {},
   "source": [
    "## Example"
   ]
  },
  {
   "cell_type": "markdown",
   "metadata": {},
   "source": [
    "### SQL\n",
    "\n",
    "###### Suppose a client needs a database design for his blog/website and see the differences between RDBMS and MongoDB schema design. Website has the following requirements.\n",
    "\n",
    "Every post has the unique title, description and url.\n",
    "\n",
    "Every post can have one or more tags.\n",
    "\n",
    "Every post has the name of its publisher and total number of likes.\n",
    "\n",
    "Every post has comments given by users along with their name, message, data-time and likes.\n",
    "\n",
    "On each post, there can be zero or more comments.\n",
    "\n",
    "In RDBMS schema, design for above requirements will have minimum three tables."
   ]
  },
  {
   "cell_type": "markdown",
   "metadata": {},
   "source": [
    "### MongoDB\n",
    "\n",
    "###### While in MongoDB schema, design will have one collection post and the following structure −\n",
    "\n"
   ]
  },
  {
   "cell_type": "raw",
   "metadata": {},
   "source": [
    "{\n",
    "   _id: POST_ID\n",
    "   title: TITLE_OF_POST, \n",
    "   description: POST_DESCRIPTION,\n",
    "   by: POST_BY,\n",
    "   url: URL_OF_POST,\n",
    "   tags: [TAG1, TAG2, TAG3],\n",
    "   likes: TOTAL_LIKES, \n",
    "   comments: [\t\n",
    "      {\n",
    "         user:'COMMENT_BY',\n",
    "         message: TEXT,\n",
    "         dateCreated: DATE_TIME,\n",
    "         like: LIKES \n",
    "      },\n",
    "      {\n",
    "         user:'COMMENT_BY',\n",
    "         message: TEXT,\n",
    "         dateCreated: DATE_TIME,\n",
    "         like: LIKES\n",
    "      }\n",
    "   ]\n",
    "}"
   ]
  },
  {
   "cell_type": "markdown",
   "metadata": {
    "collapsed": true
   },
   "source": [
    "##  Database Queries"
   ]
  },
  {
   "cell_type": "markdown",
   "metadata": {},
   "source": [
    "#### SYNTAX :\n",
    "#### use database_name"
   ]
  },
  {
   "cell_type": "markdown",
   "metadata": {},
   "source": [
    "#####  use database_name"
   ]
  },
  {
   "cell_type": "markdown",
   "metadata": {},
   "source": [
    "It create database if it is not exits if it is exits then it switch to that database"
   ]
  },
  {
   "cell_type": "markdown",
   "metadata": {},
   "source": [
    "#### 2. db"
   ]
  },
  {
   "cell_type": "markdown",
   "metadata": {},
   "source": [
    "It return name of database that we cureently use"
   ]
  },
  {
   "cell_type": "markdown",
   "metadata": {},
   "source": [
    "#### 3. show dbs\n",
    "    admin  0.000GB\n",
    "    local  0.000GB\n"
   ]
  },
  {
   "cell_type": "markdown",
   "metadata": {},
   "source": [
    "It return local is default database created by system\n",
    "\n",
    "But it does not list the DB that we created, to list that DB we have to insert documents inside DB"
   ]
  },
  {
   "cell_type": "markdown",
   "metadata": {},
   "source": [
    "#### 4.  db.Employee.insert({\"Name\":\"Test\"})\n",
    "            WriteResult({ \"nInserted\" : 1 })\n"
   ]
  },
  {
   "cell_type": "markdown",
   "metadata": {},
   "source": [
    "Here, command say that 1. db - means current database\n",
    "                       2. Employee - name of collection in which we insert data\n",
    "                               because heirarchy of MongoDB data is : database -> collection -> documents \n",
    "                       3. ({\"Nmae\" : \"Test\"}) - Data i.e. documents that we insert inside db\n",
    "                       \n",
    "       Command return : WriteResult({ \"nInserted\" : 1 })\n",
    "           \n",
    "                       which means it write one result into DB with insert"
   ]
  },
  {
   "cell_type": "markdown",
   "metadata": {},
   "source": [
    "###### After this if we do show dbs\n",
    "           It list demo i.e DB that we created"
   ]
  },
  {
   "cell_type": "markdown",
   "metadata": {},
   "source": [
    "##### show dbs\n",
    "    admin  0.000GB\n",
    "    demo   0.000GB\n",
    "    local  0.000GB\n"
   ]
  },
  {
   "cell_type": "markdown",
   "metadata": {},
   "source": [
    "### To Drop Database"
   ]
  },
  {
   "cell_type": "markdown",
   "metadata": {},
   "source": [
    "##### 5. db.dropDatabase()\n",
    "    { \"dropped\" : \"demo\", \"ok\" : 1 }\n"
   ]
  },
  {
   "cell_type": "markdown",
   "metadata": {},
   "source": [
    "Commands means Drop current database which is \"demo\""
   ]
  },
  {
   "cell_type": "markdown",
   "metadata": {},
   "source": [
    "#####  show dbs\n",
    "    admin  0.000GB\n",
    "    local  0.000GB\n"
   ]
  },
  {
   "cell_type": "markdown",
   "metadata": {},
   "source": [
    "### Create Collections\n",
    "        There are two ways to create collection:\n",
    "                1. By using command : \n",
    "                         db.createCollection(\"Name_collection\")\n",
    "                2. By inserting documents inside collection :\n",
    "                          db.Employee.insert({\"Name\":\"Test\"})"
   ]
  },
  {
   "cell_type": "markdown",
   "metadata": {},
   "source": [
    "##### 1.  db.createCollection(\"test\")\n",
    "    { \"ok\" : 1 }\n"
   ]
  },
  {
   "cell_type": "markdown",
   "metadata": {},
   "source": [
    "It create collection \"test\""
   ]
  },
  {
   "cell_type": "markdown",
   "metadata": {},
   "source": [
    "#####  show collections\n",
    "        test\n"
   ]
  },
  {
   "cell_type": "markdown",
   "metadata": {},
   "source": [
    "##### 2. db.Employee.insert({\"Name\":\"Test\"})\n",
    "        WriteResult({ \"nInserted\" : 1 })"
   ]
  },
  {
   "cell_type": "markdown",
   "metadata": {},
   "source": [
    "### Drop collections"
   ]
  },
  {
   "cell_type": "markdown",
   "metadata": {},
   "source": [
    "##### db.test.drop()\n",
    "        true\n"
   ]
  },
  {
   "cell_type": "markdown",
   "metadata": {},
   "source": [
    "It drop collection \"test\""
   ]
  },
  {
   "cell_type": "markdown",
   "metadata": {},
   "source": [
    "### To insert documents inside collection\n",
    "              1. We can insert one document at time\n",
    "              2. We can insert Array of document at time"
   ]
  },
  {
   "cell_type": "markdown",
   "metadata": {},
   "source": [
    "##### 1. db.Employee.insert({\n",
    "                           \"EmpNo\":\"1\", \n",
    "                            \"FirstName\":\"Andrew\",\n",
    "                            \"LastName\":\"Neil\", \n",
    "                            \"Age\":\"30\", \n",
    "                            \"Gender\":\"Male\",\n",
    "                            \"Skill\":\"MongoDB\", \n",
    "                            \"Phone\":\"408-1234567\", \n",
    "                            \"Email\":\"Andrew.Neil@gmail.com\", \n",
    "                            \"Salary\":\"80000\" })\n",
    "                            \n",
    " WriteResult({ \"nInserted\" : 1 })\n"
   ]
  },
  {
   "cell_type": "markdown",
   "metadata": {},
   "source": [
    "##### 2. db.Employee.insert([{\n",
    "                ... \"EmpNo\":\"1\",\n",
    "                ... \"FirstName\":\"Andrew\",\n",
    "                ... \"LastName\":\"Neil\",\n",
    "                ... \"Age\":\"30\",\n",
    "                ... \"Gender\":\"Male\",\n",
    "                ... \"Skill\":\"MongoDB\",\n",
    "                ... \"Phone\":\"408-1234567\",\n",
    "                ... \"Email\":\"Andrew.Neil@gmail.com\",\n",
    "                ... \"Salary\":\"80000\"\n",
    "                ... },\n",
    "                ... {\n",
    "                ... \"EmpNo\":\"2\",\n",
    "                ... \"FirstName\":\"Brian\",\n",
    "                ... \"LastName\":\"Hall\",\n",
    "                ... \"Age\":\"27\",\n",
    "                ... \"Gender\":\"Male\",\n",
    "                ... \"Skill\":\"Javascript\",\n",
    "                ... \"Phone\":\"408-1298367\",\n",
    "                ... \"Email\":\"Brian.Hall@gmail.com\",\n",
    "                ... \"Salary\":\"60000\"\n",
    "                ... },\n",
    "                ... {\n",
    "                ... \"EmpNo\":\"3\",\n",
    "                ... \"FirstName\":\"Chris\",\n",
    "                ... \"LastName\":\"White\",\n",
    "                ... \"Age\":\"40\",\n",
    "                ... \"Gender\":\"Male\",\n",
    "                ... \"Skill\":\"Python\",\n",
    "                ... \"Phone\":\"408-4444567\",\n",
    "                ... \"Email\":\"Chris.White@gmail.com\",\n",
    "                ... \"Salary\":\"100000\"\n",
    "                ... },\n",
    "                ... {\n",
    "                ... \"EmpNo\":\"4\",\n",
    "                ... \"FirstName\":\"Debbie\",\n",
    "                ... \"LastName\":\"Long\",\n",
    "                ... \"Age\":\"32\",\n",
    "                ... \"Gender\":\"Female\",\n",
    "                ... \"Skill\":\"Project Management\",\n",
    "                ... \"Phone\":\"408-1299963\",\n",
    "                ... \"Email\":\"Debbie.Long@gmail.com\",\n",
    "                ... \"Salary\":\"105000\"\n",
    "                ... },\n",
    "                ... {\n",
    "                ... \"EmpNo\":\"5\",\n",
    "                ... \"FirstName\":\"Ethan\",\n",
    "                ... \"LastName\":\"Murphy\",\n",
    "                ... \"Age\":\"45\",\n",
    "                ... \"Gender\":\"Male\",\n",
    "                ... \"Skill\":\"C#\",\n",
    "                ... \"Phone\":\"408-3314567\",\n",
    "                ... \"Email\":\"Ethan.Murphy@gmail.com\",\n",
    "                ... \"Salary\":\"120000\"\n",
    "                ... },\n",
    "                ... {\n",
    "                ... \"EmpNo\":\"6\",\n",
    "                ... \"FirstName\":\"Felicia\",\n",
    "                ... \"LastName\":\"Lee\",\n",
    "                ... \"Age\":\"33\",\n",
    "                ... \"Gender\":\"Female\",\n",
    "                ... \"Skill\":\"MongoDB\",\n",
    "                ... \"Phone\":\"408-8832567\",\n",
    "                ... \"Email\":\"Felicia.Lee@gmail.com\",\n",
    "                ... \"Salary\":\"85000\"\n",
    "                ... },\n",
    "                ... {\n",
    "                ... \"EmpNo\":\"7\",\n",
    "                ... \"FirstName\":\"George\",\n",
    "                ... \"LastName\":\"Cyrus\",\n",
    "                ... \"Age\":\"36\",\n",
    "                ... \"Gender\":\"Male\",\n",
    "                ... \"Skill\":\"MongoDB\",\n",
    "                ... \"Phone\":\"408-9984567\",\n",
    "                ... \"Email\":\"George.Cyrus@gmail.com\",\n",
    "                ... \"Salary\":\"88000\"\n",
    "                ... },\n",
    "                ... {\n",
    "                ... \"EmpNo\":\"8\",\n",
    "                ... \"FirstName\":\"Hannah\",\n",
    "                ... \"LastName\":\"Johnson\",\n",
    "                ... \"Age\":\"26\",\n",
    "                ... \"Gender\":\"Female\",\n",
    "                ... \"Skill\":\"AngularJS\",\n",
    "                ... \"Phone\":\"408-7654321\",\n",
    "                ... \"Email\":\"Hannah.Johnson@gmail.com\",\n",
    "                ... \"Salary\":\"72000\"\n",
    "                ... }])\n"
   ]
  },
  {
   "cell_type": "markdown",
   "metadata": {},
   "source": [
    "###### BulkWriteResult({\n",
    "                \"writeErrors\" : [ ],\n",
    "                \"writeConcernErrors\" : [ ],\n",
    "                \"nInserted\" : 8,\n",
    "                \"nUpserted\" : 0,\n",
    "                \"nMatched\" : 0,\n",
    "                \"nModified\" : 0,\n",
    "                \"nRemoved\" : 0,\n",
    "                \"upserted\" : [ ]\n",
    "            })\n"
   ]
  },
  {
   "cell_type": "markdown",
   "metadata": {},
   "source": [
    "## To find Documents that we insert into collections"
   ]
  },
  {
   "cell_type": "markdown",
   "metadata": {},
   "source": [
    "##### 1 .  db.Employee.find()\n",
    "                    It return result of all documents in  collection \"Employee\" "
   ]
  },
  {
   "cell_type": "markdown",
   "metadata": {},
   "source": [
    "##### 2.  db.Employee.find().pretty()\n",
    "                It return result in proper structured format\n"
   ]
  },
  {
   "cell_type": "markdown",
   "metadata": {},
   "source": [
    "##### 3. db.Employee.findOne()\n",
    "                { \"_id\" : ObjectId(\"5bb462788ae6092fa49586a6\") }\n",
    "                \n",
    "     It return 1st document from collection"
   ]
  },
  {
   "cell_type": "markdown",
   "metadata": {},
   "source": [
    "### Find documents using conditions"
   ]
  },
  {
   "cell_type": "markdown",
   "metadata": {},
   "source": [
    "###  Equality \n",
    "#### SYNATX :\n",
    "#### db.collection_name.find(\"selection_key\":\"selection_value\"})\n",
    "\n",
    "\n"
   ]
  },
  {
   "cell_type": "markdown",
   "metadata": {},
   "source": [
    "#####   db.Employee.find({\"EmpNo\" : \"2\"}).pretty()\n",
    "\n",
    "It return result where EmpNo is 2 :\n",
    " \n",
    "                    {\n",
    "                        \"_id\" : ObjectId(\"5bb4652e8ae6092fa49586aa\"),\n",
    "                        \"EmpNo\" : \"2\",\n",
    "                        \"FirstName\" : \"Brian\",\n",
    "                        \"LastName\" : \"Hall\",\n",
    "                        \"Age\" : \"27\",\n",
    "                        \"Gender\" : \"Male\",\n",
    "                        \"Skill\" : \"Javascript\",\n",
    "                        \"Phone\" : \"408-1298367\",\n",
    "                        \"Email\" : \"Brian.Hall@gmail.com\",\n",
    "                        \"Salary\" : \"60000\"\n",
    "                    }\n"
   ]
  },
  {
   "cell_type": "markdown",
   "metadata": {},
   "source": [
    "### Less than \n",
    "#### SYNATX : \n",
    "#### db.collection_name.find(\"selection_key\":{$lt:\"selection_value\"})\n",
    "            For this use {$lt : \"30\"}\n",
    "            $lt is stands for less than"
   ]
  },
  {
   "cell_type": "markdown",
   "metadata": {},
   "source": [
    "##### > db.Employee.find({\"Age\" : {$lt : \"30\"}}).pretty()\n",
    "                    {\n",
    "                        \"_id\" : ObjectId(\"5bb4652e8ae6092fa49586aa\"),\n",
    "                        \"EmpNo\" : \"2\",\n",
    "                        \"FirstName\" : \"Brian\",\n",
    "                        \"LastName\" : \"Hall\",\n",
    "                        \"Age\" : \"27\",\n",
    "                        \"Gender\" : \"Male\",\n",
    "                        \"Skill\" : \"Javascript\",\n",
    "                        \"Phone\" : \"408-1298367\",\n",
    "                        \"Email\" : \"Brian.Hall@gmail.com\",\n",
    "                        \"Salary\" : \"60000\"\n",
    "                    }\n",
    "                    {\n",
    "                        \"_id\" : ObjectId(\"5bb4652e8ae6092fa49586b0\"),\n",
    "                        \"EmpNo\" : \"8\",\n",
    "                        \"FirstName\" : \"Hannah\",\n",
    "                        \"LastName\" : \"Johnson\",\n",
    "                        \"Age\" : \"26\",\n",
    "                        \"Gender\" : \"Female\",\n",
    "                        \"Skill\" : \"AngularJS\",\n",
    "                        \"Phone\" : \"408-7654321\",\n",
    "                        \"Email\" : \"Hannah.Johnson@gmail.com\",\n",
    "                        \"Salary\" : \"72000\"\n",
    "                    }\n"
   ]
  },
  {
   "cell_type": "markdown",
   "metadata": {},
   "source": [
    "### less than and equal to\n",
    "#### SYNATX : \n",
    "#### db.collection_name.find(\"selection_key\":{$lte:\"selection_value\"})"
   ]
  },
  {
   "cell_type": "markdown",
   "metadata": {},
   "source": [
    "#### > db.Employee.find({\"Age\" : {$lte : \"30\"}}).pretty()\n",
    "                    {\n",
    "                        \"_id\" : ObjectId(\"5bb462f48ae6092fa49586a7\"),\n",
    "                        \"EmpNo\" : \"1\",\n",
    "                        \"FirstName\" : \"Andrew\",\n",
    "                        \"LastName\" : \"Neil\",\n",
    "                        \"Age\" : \"30\",\n",
    "                        \"Gender\" : \"Male\",\n",
    "                        \"Skill\" : \"MongoDB\",\n",
    "                        \"Phone\" : \"408-1234567\",\n",
    "                        \"Email\" : \"Andrew.Neil@gmail.com\",\n",
    "                        \"Salary\" : \"80000\"\n",
    "                    }\n",
    "                    {\n",
    "                        \"_id\" : ObjectId(\"5bb464f58ae6092fa49586a8\"),\n",
    "                        \"EmpNo\" : \"1\",\n",
    "                        \"FirstName\" : \"Andrew\",\n",
    "                        \"LastName\" : \"Neil\",\n",
    "                        \"Age\" : \"30\",\n",
    "                        \"Gender\" : \"Male\",\n",
    "                        \"Skill\" : \"MongoDB\",\n",
    "                        \"Phone\" : \"408-1234567\",\n",
    "                        \"Email\" : \"Andrew.Neil@gmail.com\",\n",
    "                        \"Salary\" : \"80000\"\n",
    "                    }\n",
    "                    {\n",
    "                        \"_id\" : ObjectId(\"5bb4652e8ae6092fa49586a9\"),\n",
    "                        \"EmpNo\" : \"1\",\n",
    "                        \"FirstName\" : \"Andrew\",\n",
    "                        \"LastName\" : \"Neil\",\n",
    "                        \"Age\" : \"30\",\n",
    "                        \"Gender\" : \"Male\",\n",
    "                        \"Skill\" : \"MongoDB\",\n",
    "                        \"Phone\" : \"408-1234567\",\n",
    "                        \"Email\" : \"Andrew.Neil@gmail.com\",\n",
    "                        \"Salary\" : \"80000\"\n",
    "                    }\n",
    "                    {\n",
    "                        \"_id\" : ObjectId(\"5bb4652e8ae6092fa49586aa\"),\n",
    "                        \"EmpNo\" : \"2\",\n",
    "                        \"FirstName\" : \"Brian\",\n",
    "                        \"LastName\" : \"Hall\",\n",
    "                        \"Age\" : \"27\",\n",
    "                        \"Gender\" : \"Male\",\n",
    "                        \"Skill\" : \"Javascript\",\n",
    "                        \"Phone\" : \"408-1298367\",\n",
    "                        \"Email\" : \"Brian.Hall@gmail.com\",\n",
    "                        \"Salary\" : \"60000\"\n",
    "                    }\n",
    "                    {\n",
    "                        \"_id\" : ObjectId(\"5bb4652e8ae6092fa49586b0\"),\n",
    "                        \"EmpNo\" : \"8\",\n",
    "                        \"FirstName\" : \"Hannah\",\n",
    "                        \"LastName\" : \"Johnson\",\n",
    "                        \"Age\" : \"26\",\n",
    "                        \"Gender\" : \"Female\",\n",
    "                        \"Skill\" : \"AngularJS\",\n",
    "                        \"Phone\" : \"408-7654321\",\n",
    "                        \"Email\" : \"Hannah.Johnson@gmail.com\",\n",
    "                        \"Salary\" : \"72000\"\n",
    "                    }\n"
   ]
  },
  {
   "cell_type": "markdown",
   "metadata": {},
   "source": [
    "### greater than\n",
    "#### SYNATX : \n",
    "#### db.collection_name.find(\"selection_key\":{$gt:\"selection_value\"})"
   ]
  },
  {
   "cell_type": "markdown",
   "metadata": {},
   "source": [
    "#### > db.Employee.find({\"Age\" : {$gt : \"30\"}}).pretty()\n",
    "                        {\n",
    "                            \"_id\" : ObjectId(\"5bb4652e8ae6092fa49586ab\"),\n",
    "                            \"EmpNo\" : \"3\",\n",
    "                            \"FirstName\" : \"Chris\",\n",
    "                            \"LastName\" : \"White\",\n",
    "                            \"Age\" : \"40\",\n",
    "                            \"Gender\" : \"Male\",\n",
    "                            \"Skill\" : \"Python\",\n",
    "                            \"Phone\" : \"408-4444567\",\n",
    "                            \"Email\" : \"Chris.White@gmail.com\",\n",
    "                            \"Salary\" : \"100000\"\n",
    "                        }\n",
    "                        {\n",
    "                            \"_id\" : ObjectId(\"5bb4652e8ae6092fa49586ac\"),\n",
    "                            \"EmpNo\" : \"4\",\n",
    "                            \"FirstName\" : \"Debbie\",\n",
    "                            \"LastName\" : \"Long\",\n",
    "                            \"Age\" : \"32\",\n",
    "                            \"Gender\" : \"Female\",\n",
    "                            \"Skill\" : \"Project Management\",\n",
    "                            \"Phone\" : \"408-1299963\",\n",
    "                            \"Email\" : \"Debbie.Long@gmail.com\",\n",
    "                            \"Salary\" : \"105000\"\n",
    "                        }\n",
    "                        {\n",
    "                            \"_id\" : ObjectId(\"5bb4652e8ae6092fa49586ad\"),\n",
    "                            \"EmpNo\" : \"5\",\n",
    "                            \"FirstName\" : \"Ethan\",\n",
    "                            \"LastName\" : \"Murphy\",\n",
    "                            \"Age\" : \"45\",\n",
    "                            \"Gender\" : \"Male\",\n",
    "                            \"Skill\" : \"C#\",\n",
    "                            \"Phone\" : \"408-3314567\",\n",
    "                            \"Email\" : \"Ethan.Murphy@gmail.com\",\n",
    "                            \"Salary\" : \"120000\"\n",
    "                        }\n",
    "                        {\n",
    "                            \"_id\" : ObjectId(\"5bb4652e8ae6092fa49586ae\"),\n",
    "                            \"EmpNo\" : \"6\",\n",
    "                            \"FirstName\" : \"Felicia\",\n",
    "                            \"LastName\" : \"Lee\",\n",
    "                            \"Age\" : \"33\",\n",
    "                            \"Gender\" : \"Female\",\n",
    "                            \"Skill\" : \"MongoDB\",\n",
    "                            \"Phone\" : \"408-8832567\",\n",
    "                            \"Email\" : \"Felicia.Lee@gmail.com\",\n",
    "                            \"Salary\" : \"85000\"\n",
    "                        }\n",
    "                        {\n",
    "                            \"_id\" : ObjectId(\"5bb4652e8ae6092fa49586af\"),\n",
    "                            \"EmpNo\" : \"7\",\n",
    "                            \"FirstName\" : \"George\",\n",
    "                            \"LastName\" : \"Cyrus\",\n",
    "                            \"Age\" : \"36\",\n",
    "                            \"Gender\" : \"Male\",\n",
    "                            \"Skill\" : \"MongoDB\",\n",
    "                            \"Phone\" : \"408-9984567\",\n",
    "                            \"Email\" : \"George.Cyrus@gmail.com\",\n",
    "                            \"Salary\" : \"88000\"\n",
    "                        }\n"
   ]
  },
  {
   "cell_type": "markdown",
   "metadata": {},
   "source": [
    "### greater than equal to\n",
    "#### SYNATX :\n",
    "#### db.collection_name.find(\"selection_key\":{$gt:\"selection_value\"})"
   ]
  },
  {
   "cell_type": "markdown",
   "metadata": {},
   "source": [
    "#### > db.Employee.find({\"Age\" : {$gte : \"30\"}}).pretty()\n",
    "                        {\n",
    "                            \"_id\" : ObjectId(\"5bb462f48ae6092fa49586a7\"),\n",
    "                            \"EmpNo\" : \"1\",\n",
    "                            \"FirstName\" : \"Andrew\",\n",
    "                            \"LastName\" : \"Neil\",\n",
    "                            \"Age\" : \"30\",\n",
    "                            \"Gender\" : \"Male\",\n",
    "                            \"Skill\" : \"MongoDB\",\n",
    "                            \"Phone\" : \"408-1234567\",\n",
    "                            \"Email\" : \"Andrew.Neil@gmail.com\",\n",
    "                            \"Salary\" : \"80000\"\n",
    "                        }\n",
    "                        {\n",
    "                            \"_id\" : ObjectId(\"5bb464f58ae6092fa49586a8\"),\n",
    "                            \"EmpNo\" : \"1\",\n",
    "                            \"FirstName\" : \"Andrew\",\n",
    "                            \"LastName\" : \"Neil\",\n",
    "                            \"Age\" : \"30\",\n",
    "                            \"Gender\" : \"Male\",\n",
    "                            \"Skill\" : \"MongoDB\",\n",
    "                            \"Phone\" : \"408-1234567\",\n",
    "                            \"Email\" : \"Andrew.Neil@gmail.com\",\n",
    "                            \"Salary\" : \"80000\"\n",
    "                        }\n",
    "                        {\n",
    "                            \"_id\" : ObjectId(\"5bb4652e8ae6092fa49586a9\"),\n",
    "                            \"EmpNo\" : \"1\",\n",
    "                            \"FirstName\" : \"Andrew\",\n",
    "                            \"LastName\" : \"Neil\",\n",
    "                            \"Age\" : \"30\",\n",
    "                            \"Gender\" : \"Male\",\n",
    "                            \"Skill\" : \"MongoDB\",\n",
    "                            \"Phone\" : \"408-1234567\",\n",
    "                            \"Email\" : \"Andrew.Neil@gmail.com\",\n",
    "                            \"Salary\" : \"80000\"\n",
    "                        }\n",
    "                        {\n",
    "                            \"_id\" : ObjectId(\"5bb4652e8ae6092fa49586ab\"),\n",
    "                            \"EmpNo\" : \"3\",\n",
    "                            \"FirstName\" : \"Chris\",\n",
    "                            \"LastName\" : \"White\",\n",
    "                            \"Age\" : \"40\",\n",
    "                            \"Gender\" : \"Male\",\n",
    "                            \"Skill\" : \"Python\",\n",
    "                            \"Phone\" : \"408-4444567\",\n",
    "                            \"Email\" : \"Chris.White@gmail.com\",\n",
    "                            \"Salary\" : \"100000\"\n",
    "                        }\n",
    "                        {\n",
    "                            \"_id\" : ObjectId(\"5bb4652e8ae6092fa49586ac\"),\n",
    "                            \"EmpNo\" : \"4\",\n",
    "                            \"FirstName\" : \"Debbie\",\n",
    "                            \"LastName\" : \"Long\",\n",
    "                            \"Age\" : \"32\",\n",
    "                            \"Gender\" : \"Female\",\n",
    "                            \"Skill\" : \"Project Management\",\n",
    "                            \"Phone\" : \"408-1299963\",\n",
    "                            \"Email\" : \"Debbie.Long@gmail.com\",\n",
    "                            \"Salary\" : \"105000\"\n",
    "                        }\n",
    "                        {\n",
    "                            \"_id\" : ObjectId(\"5bb4652e8ae6092fa49586ad\"),\n",
    "                            \"EmpNo\" : \"5\",\n",
    "                            \"FirstName\" : \"Ethan\",\n",
    "                            \"LastName\" : \"Murphy\",\n",
    "                            \"Age\" : \"45\",\n",
    "                            \"Gender\" : \"Male\",\n",
    "                            \"Skill\" : \"C#\",\n",
    "                            \"Phone\" : \"408-3314567\",\n",
    "                            \"Email\" : \"Ethan.Murphy@gmail.com\",\n",
    "                            \"Salary\" : \"120000\"\n",
    "                        }\n",
    "                        {\n",
    "                            \"_id\" : ObjectId(\"5bb4652e8ae6092fa49586ae\"),\n",
    "                            \"EmpNo\" : \"6\",\n",
    "                            \"FirstName\" : \"Felicia\",\n",
    "                            \"LastName\" : \"Lee\",\n",
    "                            \"Age\" : \"33\",\n",
    "                            \"Gender\" : \"Female\",\n",
    "                            \"Skill\" : \"MongoDB\",\n",
    "                            \"Phone\" : \"408-8832567\",\n",
    "                            \"Email\" : \"Felicia.Lee@gmail.com\",\n",
    "                            \"Salary\" : \"85000\"\n",
    "                        }\n",
    "                        {\n",
    "                            \"_id\" : ObjectId(\"5bb4652e8ae6092fa49586af\"),\n",
    "                            \"EmpNo\" : \"7\",\n",
    "                            \"FirstName\" : \"George\",\n",
    "                            \"LastName\" : \"Cyrus\",\n",
    "                            \"Age\" : \"36\",\n",
    "                            \"Gender\" : \"Male\",\n",
    "                            \"Skill\" : \"MongoDB\",\n",
    "                            \"Phone\" : \"408-9984567\",\n",
    "                            \"Email\" : \"George.Cyrus@gmail.com\",\n",
    "                            \"Salary\" : \"88000\"\n",
    "                        }\n"
   ]
  },
  {
   "cell_type": "markdown",
   "metadata": {},
   "source": [
    "### not equal to\n",
    "#### SYNATX : \n",
    "#### db.collection_name.find(\"selection_key\":{$ne:\"selection_value\"})"
   ]
  },
  {
   "cell_type": "markdown",
   "metadata": {},
   "source": [
    "####  > db.Employee.find({\"Age\" : {$ne : \"30\"}}).pretty()\n",
    "                    { \"_id\" : ObjectId(\"5bb462788ae6092fa49586a6\") }\n",
    "                    {\n",
    "                        \"_id\" : ObjectId(\"5bb4652e8ae6092fa49586aa\"),\n",
    "                        \"EmpNo\" : \"2\",\n",
    "                        \"FirstName\" : \"Brian\",\n",
    "                        \"LastName\" : \"Hall\",\n",
    "                        \"Age\" : \"27\",\n",
    "                        \"Gender\" : \"Male\",\n",
    "                        \"Skill\" : \"Javascript\",\n",
    "                        \"Phone\" : \"408-1298367\",\n",
    "                        \"Email\" : \"Brian.Hall@gmail.com\",\n",
    "                        \"Salary\" : \"60000\"\n",
    "                    }\n",
    "                    {\n",
    "                        \"_id\" : ObjectId(\"5bb4652e8ae6092fa49586ab\"),\n",
    "                        \"EmpNo\" : \"3\",\n",
    "                        \"FirstName\" : \"Chris\",\n",
    "                        \"LastName\" : \"White\",\n",
    "                        \"Age\" : \"40\",\n",
    "                        \"Gender\" : \"Male\",\n",
    "                        \"Skill\" : \"Python\",\n",
    "                        \"Phone\" : \"408-4444567\",\n",
    "                        \"Email\" : \"Chris.White@gmail.com\",\n",
    "                        \"Salary\" : \"100000\"\n",
    "                    }\n",
    "                    {\n",
    "                        \"_id\" : ObjectId(\"5bb4652e8ae6092fa49586ac\"),\n",
    "                        \"EmpNo\" : \"4\",\n",
    "                        \"FirstName\" : \"Debbie\",\n",
    "                        \"LastName\" : \"Long\",\n",
    "                        \"Age\" : \"32\",\n",
    "                        \"Gender\" : \"Female\",\n",
    "                        \"Skill\" : \"Project Management\",\n",
    "                        \"Phone\" : \"408-1299963\",\n",
    "                        \"Email\" : \"Debbie.Long@gmail.com\",\n",
    "                        \"Salary\" : \"105000\"\n",
    "                    }\n",
    "                    {\n",
    "                        \"_id\" : ObjectId(\"5bb4652e8ae6092fa49586ad\"),\n",
    "                        \"EmpNo\" : \"5\",\n",
    "                        \"FirstName\" : \"Ethan\",\n",
    "                        \"LastName\" : \"Murphy\",\n",
    "                        \"Age\" : \"45\",\n",
    "                        \"Gender\" : \"Male\",\n",
    "                        \"Skill\" : \"C#\",\n",
    "                        \"Phone\" : \"408-3314567\",\n",
    "                        \"Email\" : \"Ethan.Murphy@gmail.com\",\n",
    "                        \"Salary\" : \"120000\"\n",
    "                    }\n",
    "                    {\n",
    "                        \"_id\" : ObjectId(\"5bb4652e8ae6092fa49586ae\"),\n",
    "                        \"EmpNo\" : \"6\",\n",
    "                        \"FirstName\" : \"Felicia\",\n",
    "                        \"LastName\" : \"Lee\",\n",
    "                        \"Age\" : \"33\",\n",
    "                        \"Gender\" : \"Female\",\n",
    "                        \"Skill\" : \"MongoDB\",\n",
    "                        \"Phone\" : \"408-8832567\",\n",
    "                        \"Email\" : \"Felicia.Lee@gmail.com\",\n",
    "                        \"Salary\" : \"85000\"\n",
    "                    }\n",
    "                    {\n",
    "                        \"_id\" : ObjectId(\"5bb4652e8ae6092fa49586af\"),\n",
    "                        \"EmpNo\" : \"7\",\n",
    "                        \"FirstName\" : \"George\",\n",
    "                        \"LastName\" : \"Cyrus\",\n",
    "                        \"Age\" : \"36\",\n",
    "                        \"Gender\" : \"Male\",\n",
    "                        \"Skill\" : \"MongoDB\",\n",
    "                        \"Phone\" : \"408-9984567\",\n",
    "                        \"Email\" : \"George.Cyrus@gmail.com\",\n",
    "                        \"Salary\" : \"88000\"\n",
    "                    }\n",
    "                    {\n",
    "                        \"_id\" : ObjectId(\"5bb4652e8ae6092fa49586b0\"),\n",
    "                        \"EmpNo\" : \"8\",\n",
    "                        \"FirstName\" : \"Hannah\",\n",
    "                        \"LastName\" : \"Johnson\",\n",
    "                        \"Age\" : \"26\",\n",
    "                        \"Gender\" : \"Female\",\n",
    "                        \"Skill\" : \"AngularJS\",\n",
    "                        \"Phone\" : \"408-7654321\",\n",
    "                        \"Email\" : \"Hannah.Johnson@gmail.com\",\n",
    "                        \"Salary\" : \"72000\"\n",
    "                    }\n"
   ]
  },
  {
   "cell_type": "markdown",
   "metadata": {},
   "source": [
    "### And\n",
    "#### SYNATX :\n",
    "#### db.collection_name.find({selection_condition},{selection_conditin}) \n",
    "         skill must be MongoDB and Salary 88000"
   ]
  },
  {
   "cell_type": "markdown",
   "metadata": {},
   "source": [
    "#### > db.Employee.find({\"Skill\":\"MongoDB\", \"Salary\":\"88000\"}).pretty()\n",
    "                {\n",
    "                    \"_id\" : ObjectId(\"5bb4652e8ae6092fa49586af\"),\n",
    "                    \"EmpNo\" : \"7\",\n",
    "                    \"FirstName\" : \"George\",\n",
    "                    \"LastName\" : \"Cyrus\",\n",
    "                    \"Age\" : \"36\",\n",
    "                    \"Gender\" : \"Male\",\n",
    "                    \"Skill\" : \"MongoDB\",\n",
    "                    \"Phone\" : \"408-9984567\",\n",
    "                    \"Email\" : \"George.Cyrus@gmail.com\",\n",
    "                    \"Salary\" : \"88000\"\n",
    "                }\n",
    "> \n"
   ]
  },
  {
   "cell_type": "markdown",
   "metadata": {},
   "source": [
    "### OR\n",
    "#### SYNATX : \n",
    "#### db.collection_name.find($or:[{selection_condition},{selection_conditin}])\n",
    "            select documents such as skill must be MongoDB or Salary Must be 72000"
   ]
  },
  {
   "cell_type": "markdown",
   "metadata": {},
   "source": [
    "#### > db.Employee.find({$or : [{\"Skill\":\"MongoDB\"},{\"Salary\":\"72000\"}]}).pretty()\n",
    "                    {\n",
    "                        \"_id\" : ObjectId(\"5bb462f48ae6092fa49586a7\"),\n",
    "                        \"EmpNo\" : \"1\",\n",
    "                        \"FirstName\" : \"Andrew\",\n",
    "                        \"LastName\" : \"Neil\",\n",
    "                        \"Age\" : \"30\",\n",
    "                        \"Gender\" : \"Male\",\n",
    "                        \"Skill\" : \"MongoDB\",\n",
    "                        \"Phone\" : \"408-1234567\",\n",
    "                        \"Email\" : \"Andrew.Neil@gmail.com\",\n",
    "                        \"Salary\" : \"80000\"\n",
    "                    }\n",
    "                    {\n",
    "                        \"_id\" : ObjectId(\"5bb464f58ae6092fa49586a8\"),\n",
    "                        \"EmpNo\" : \"1\",\n",
    "                        \"FirstName\" : \"Andrew\",\n",
    "                        \"LastName\" : \"Neil\",\n",
    "                        \"Age\" : \"30\",\n",
    "                        \"Gender\" : \"Male\",\n",
    "                        \"Skill\" : \"MongoDB\",\n",
    "                        \"Phone\" : \"408-1234567\",\n",
    "                        \"Email\" : \"Andrew.Neil@gmail.com\",\n",
    "                        \"Salary\" : \"80000\"\n",
    "                    }\n",
    "                    {\n",
    "                        \"_id\" : ObjectId(\"5bb4652e8ae6092fa49586a9\"),\n",
    "                        \"EmpNo\" : \"1\",\n",
    "                        \"FirstName\" : \"Andrew\",\n",
    "                        \"LastName\" : \"Neil\",\n",
    "                        \"Age\" : \"30\",\n",
    "                        \"Gender\" : \"Male\",\n",
    "                        \"Skill\" : \"MongoDB\",\n",
    "                        \"Phone\" : \"408-1234567\",\n",
    "                        \"Email\" : \"Andrew.Neil@gmail.com\",\n",
    "                        \"Salary\" : \"80000\"\n",
    "                    }\n",
    "                    {\n",
    "                        \"_id\" : ObjectId(\"5bb4652e8ae6092fa49586ae\"),\n",
    "                        \"EmpNo\" : \"6\",\n",
    "                        \"FirstName\" : \"Felicia\",\n",
    "                        \"LastName\" : \"Lee\",\n",
    "                        \"Age\" : \"33\",\n",
    "                        \"Gender\" : \"Female\",\n",
    "                        \"Skill\" : \"MongoDB\",\n",
    "                        \"Phone\" : \"408-8832567\",\n",
    "                        \"Email\" : \"Felicia.Lee@gmail.com\",\n",
    "                        \"Salary\" : \"85000\"\n",
    "                    }\n",
    "                    {\n",
    "                        \"_id\" : ObjectId(\"5bb4652e8ae6092fa49586af\"),\n",
    "                        \"EmpNo\" : \"7\",\n",
    "                        \"FirstName\" : \"George\",\n",
    "                        \"LastName\" : \"Cyrus\",\n",
    "                        \"Age\" : \"36\",\n",
    "                        \"Gender\" : \"Male\",\n",
    "                        \"Skill\" : \"MongoDB\",\n",
    "                        \"Phone\" : \"408-9984567\",\n",
    "                        \"Email\" : \"George.Cyrus@gmail.com\",\n",
    "                        \"Salary\" : \"88000\"\n",
    "                    }\n",
    "                    {\n",
    "                        \"_id\" : ObjectId(\"5bb4652e8ae6092fa49586b0\"),\n",
    "                        \"EmpNo\" : \"8\",\n",
    "                        \"FirstName\" : \"Hannah\",\n",
    "                        \"LastName\" : \"Johnson\",\n",
    "                        \"Age\" : \"26\",\n",
    "                        \"Gender\" : \"Female\",\n",
    "                        \"Skill\" : \"AngularJS\",\n",
    "                        \"Phone\" : \"408-7654321\",\n",
    "                        \"Email\" : \"Hannah.Johnson@gmail.com\",\n",
    "                        \"Salary\" : \"72000\"\n",
    "                    }\n"
   ]
  },
  {
   "cell_type": "markdown",
   "metadata": {},
   "source": [
    "### OR\n",
    "\n",
    "            It select record which skill must be MongoDB and salary is 85000 or 88000"
   ]
  },
  {
   "cell_type": "markdown",
   "metadata": {},
   "source": [
    "#### db.Employee.find({\"Skill\" :\"MongoDB\", $or : [{\"Salary\":\"88000\"},{\"Salary\":\"85000\"}]}).pretty()\n",
    "                    {\n",
    "                        \"_id\" : ObjectId(\"5bb4652e8ae6092fa49586ae\"),\n",
    "                        \"EmpNo\" : \"6\",\n",
    "                        \"FirstName\" : \"Felicia\",\n",
    "                        \"LastName\" : \"Lee\",\n",
    "                        \"Age\" : \"33\",\n",
    "                        \"Gender\" : \"Female\",\n",
    "                        \"Skill\" : \"MongoDB\",\n",
    "                        \"Phone\" : \"408-8832567\",\n",
    "                        \"Email\" : \"Felicia.Lee@gmail.com\",\n",
    "                        \"Salary\" : \"85000\"\n",
    "                    }\n",
    "                    {\n",
    "                        \"_id\" : ObjectId(\"5bb4652e8ae6092fa49586af\"),\n",
    "                        \"EmpNo\" : \"7\",\n",
    "                        \"FirstName\" : \"George\",\n",
    "                        \"LastName\" : \"Cyrus\",\n",
    "                        \"Age\" : \"36\",\n",
    "                        \"Gender\" : \"Male\",\n",
    "                        \"Skill\" : \"MongoDB\",\n",
    "                        \"Phone\" : \"408-9984567\",\n",
    "                        \"Email\" : \"George.Cyrus@gmail.com\",\n",
    "                        \"Salary\" : \"88000\"\n",
    "                    }\n"
   ]
  },
  {
   "cell_type": "markdown",
   "metadata": {},
   "source": [
    "### And, Or , Greater than "
   ]
  },
  {
   "cell_type": "markdown",
   "metadata": {},
   "source": [
    "#### db.Employee.find({\"Skill\" :\"MongoDB\",$or:[{\"Age\":{$gt:\"30\"}},{\"Salary\":\"85000\"}]}).pretty()\n",
    "                    {\n",
    "                        \"_id\" : ObjectId(\"5bb4652e8ae6092fa49586ae\"),\n",
    "                        \"EmpNo\" : \"6\",\n",
    "                        \"FirstName\" : \"Felicia\",\n",
    "                        \"LastName\" : \"Lee\",\n",
    "                        \"Age\" : \"33\",\n",
    "                        \"Gender\" : \"Female\",\n",
    "                        \"Skill\" : \"MongoDB\",\n",
    "                        \"Phone\" : \"408-8832567\",\n",
    "                        \"Email\" : \"Felicia.Lee@gmail.com\",\n",
    "                        \"Salary\" : \"85000\"\n",
    "                    }\n",
    "                    {\n",
    "                        \"_id\" : ObjectId(\"5bb4652e8ae6092fa49586af\"),\n",
    "                        \"EmpNo\" : \"7\",\n",
    "                        \"FirstName\" : \"George\",\n",
    "                        \"LastName\" : \"Cyrus\",\n",
    "                        \"Age\" : \"36\",\n",
    "                        \"Gender\" : \"Male\",\n",
    "                        \"Skill\" : \"MongoDB\",\n",
    "                        \"Phone\" : \"408-9984567\",\n",
    "                        \"Email\" : \"George.Cyrus@gmail.com\",\n",
    "                        \"Salary\" : \"88000\"\n",
    "                    }\n"
   ]
  },
  {
   "cell_type": "markdown",
   "metadata": {},
   "source": [
    "## UPDATE\n",
    "#### SYNATX :\n",
    "#### db.collection_name.update({selection_condition},{$set:{update_parameter}},{multi:true})\n",
    "                                    3rd parameter is optional use to update all matching documents\n",
    "                                    \n",
    "1 . Update salary 95000 of employee whose document_id is ObjectId(\"5bb4652e8ae6092fa49586ae\")"
   ]
  },
  {
   "cell_type": "markdown",
   "metadata": {},
   "source": [
    "#### db.Employee.update({\"_id\" : ObjectId(\"5bb4652e8ae6092fa49586ae\")}, {$set : {\"Salary\":\"95000\"}})\n",
    "        WriteResult({ \"nMatched\" : 1, \"nUpserted\" : 0, \"nModified\" : 0 })\n"
   ]
  },
  {
   "cell_type": "markdown",
   "metadata": {},
   "source": [
    "#### When there are more than one documents are match then only 1st document is get updated\n",
    "\n",
    "2 . Update document whose skill : MongoDB"
   ]
  },
  {
   "cell_type": "markdown",
   "metadata": {},
   "source": [
    "#### db.Employee.update({\"Skill\" : \"MongoDB\"}, {$set : {\"Salary\":\"95000\"}})\n",
    "   \n",
    "        WriteResult({ \"nMatched\" : 1, \"nUpserted\" : 0, \"nModified\" : 1 })\n"
   ]
  },
  {
   "cell_type": "markdown",
   "metadata": {},
   "source": [
    "#### To update all matching documents use \n",
    "                    3rd parameter {multi:true}\n",
    "3 . Update all documents whose skill : MongoDB"
   ]
  },
  {
   "cell_type": "markdown",
   "metadata": {},
   "source": [
    "####  db.Employee.update({\"Skill\" : \"MongoDB\"}, {$set : {\"Salary\":\"95000\"}},{multi:true})\n",
    "        WriteResult({ \"nMatched\" : 5, \"nUpserted\" : 0, \"nModified\" : 3 })\n"
   ]
  },
  {
   "cell_type": "markdown",
   "metadata": {},
   "source": [
    "### REMOVE\n",
    "##### SYNTAX : \n",
    "#### db.collection_name.remove({\"selection_key\":\"selection_value\"},1)\n",
    "            2nd parameter \"1 is called flag\" is optional it indicate to delete only one document out of all matching documents"
   ]
  },
  {
   "cell_type": "markdown",
   "metadata": {},
   "source": [
    "#### > db.Employee.remove({\"EmpNo\":\"1\"})\n",
    "WriteResult({ \"nRemoved\" : 3 })\n"
   ]
  },
  {
   "cell_type": "markdown",
   "metadata": {},
   "source": [
    "### SELECT\n",
    "#### SYNATX : \n",
    "#### db.collection_name.find({\"selection_key\" : \"selection_value\"}, {\"field_that_want_to_retrive\" : 1}).pretty()\n",
    "                                1 = Select\n",
    "                                0 = Not Select"
   ]
  },
  {
   "cell_type": "markdown",
   "metadata": {},
   "source": [
    "#### db.Employee.find({},{\"EmpNo\":1}).pretty()\n",
    "                { \"_id\" : ObjectId(\"5bb462788ae6092fa49586a6\") }\n",
    "                { \"_id\" : ObjectId(\"5bb4652e8ae6092fa49586ab\"), \"EmpNo\" : \"3\" }\n",
    "                { \"_id\" : ObjectId(\"5bb4652e8ae6092fa49586ac\"), \"EmpNo\" : \"4\" }\n",
    "                { \"_id\" : ObjectId(\"5bb4652e8ae6092fa49586ad\"), \"EmpNo\" : \"5\" }\n",
    "                { \"_id\" : ObjectId(\"5bb4652e8ae6092fa49586ae\"), \"EmpNo\" : \"6\" }\n",
    "                { \"_id\" : ObjectId(\"5bb4652e8ae6092fa49586af\"), \"EmpNo\" : \"7\" }\n",
    "                { \"_id\" : ObjectId(\"5bb4652e8ae6092fa49586b0\"), \"EmpNo\" : \"8\" }\n",
    "By default _id i.e id of document is selected, if we dont want to select document id just say \n",
    "\"_id\" : 0"
   ]
  },
  {
   "cell_type": "markdown",
   "metadata": {},
   "source": [
    "### LIMIT\n",
    "#### SYNATX :\n",
    "#### db.collection_name.find({\"selection_key\" : \"selection_value\"}, {\"field_that_want_to_retrive\" : 1}).pretty().limit(#_of_documents _tobe_select)"
   ]
  },
  {
   "cell_type": "markdown",
   "metadata": {},
   "source": [
    "#### > db.Employee.find({},{\"EmpNo\":1}).pretty().limit(5)\n",
    "            { \"_id\" : ObjectId(\"5bb462788ae6092fa49586a6\") }\n",
    "            { \"_id\" : ObjectId(\"5bb4652e8ae6092fa49586ab\"), \"EmpNo\" : \"3\" }\n",
    "            { \"_id\" : ObjectId(\"5bb4652e8ae6092fa49586ac\"), \"EmpNo\" : \"4\" }\n",
    "            { \"_id\" : ObjectId(\"5bb4652e8ae6092fa49586ad\"), \"EmpNo\" : \"5\" }\n",
    "            { \"_id\" : ObjectId(\"5bb4652e8ae6092fa49586ae\"), \"EmpNo\" : \"6\" }\n",
    "Top 5 documents are selected"
   ]
  },
  {
   "cell_type": "markdown",
   "metadata": {},
   "source": [
    "### SKIP\n",
    "#### SYNTAX : \n",
    "#### db.collection_name.find({\"selection_key\" : \"selection_value\"}, {\"field_that_want_to_retrive\" : 1}).pretty().skip(#_of_documents _tobe_skip)"
   ]
  },
  {
   "cell_type": "markdown",
   "metadata": {},
   "source": [
    "#### > db.Employee.find({},{\"EmpNo\":1}).pretty().skip(2)\n",
    "                { \"_id\" : ObjectId(\"5bb4652e8ae6092fa49586ac\"), \"EmpNo\" : \"4\" }\n",
    "                { \"_id\" : ObjectId(\"5bb4652e8ae6092fa49586ad\"), \"EmpNo\" : \"5\" }\n",
    "                { \"_id\" : ObjectId(\"5bb4652e8ae6092fa49586ae\"), \"EmpNo\" : \"6\" }\n",
    "                { \"_id\" : ObjectId(\"5bb4652e8ae6092fa49586af\"), \"EmpNo\" : \"7\" }\n",
    "                { \"_id\" : ObjectId(\"5bb4652e8ae6092fa49586b0\"), \"EmpNo\" : \"8\" }\n",
    "                > \n"
   ]
  },
  {
   "cell_type": "markdown",
   "metadata": {},
   "source": [
    "### SKIP AND LIMIT TOGETHER"
   ]
  },
  {
   "cell_type": "markdown",
   "metadata": {},
   "source": [
    "#### 1.  db.Employee.find({},{\"EmpNo\":1}).pretty().skip(2).limit(2)\n",
    "                { \"_id\" : ObjectId(\"5bb4652e8ae6092fa49586ac\"), \"EmpNo\" : \"4\" }\n",
    "                { \"_id\" : ObjectId(\"5bb4652e8ae6092fa49586ad\"), \"EmpNo\" : \"5\" }\n"
   ]
  },
  {
   "cell_type": "markdown",
   "metadata": {},
   "source": [
    "#### 2. db.Employee.find({},{\"EmpNo\":1}).pretty().limit(1).skip(2)\n",
    "                { \"_id\" : ObjectId(\"5bb4652e8ae6092fa49586ac\"), \"EmpNo\" : \"4\" }\n"
   ]
  },
  {
   "cell_type": "markdown",
   "metadata": {},
   "source": [
    "### SORT\n",
    "#### SYNATX : \n",
    "#### db.collection_name.find({\"selection_key\" : \"selection_value\"}, {\"field_that_want_to_retrive\" : 1}).pretty().sort({\"Selection_key\":           Value_for_sorting_order})\n",
    "                    1 = Ascending Order\n",
    "                   -1 = Descending Order"
   ]
  },
  {
   "cell_type": "markdown",
   "metadata": {},
   "source": [
    "#### ASCENDING ORDER\n",
    "#### db.Employee.find({},{\"EmpNo\":1}).pretty().sort({\"EmpNo\":1})\n",
    "                { \"_id\" : ObjectId(\"5bb462788ae6092fa49586a6\") }\n",
    "                { \"_id\" : ObjectId(\"5bb4652e8ae6092fa49586ab\"), \"EmpNo\" : \"3\" }\n",
    "                { \"_id\" : ObjectId(\"5bb4652e8ae6092fa49586ac\"), \"EmpNo\" : \"4\" }\n",
    "                { \"_id\" : ObjectId(\"5bb4652e8ae6092fa49586ad\"), \"EmpNo\" : \"5\" }\n",
    "                { \"_id\" : ObjectId(\"5bb4652e8ae6092fa49586ae\"), \"EmpNo\" : \"6\" }\n",
    "                { \"_id\" : ObjectId(\"5bb4652e8ae6092fa49586af\"), \"EmpNo\" : \"7\" }\n",
    "                { \"_id\" : ObjectId(\"5bb4652e8ae6092fa49586b0\"), \"EmpNo\" : \"8\" }\n"
   ]
  },
  {
   "cell_type": "markdown",
   "metadata": {},
   "source": [
    "####  DESCENDING ORDER\n",
    "#### db.Employee.find({},{\"EmpNo\":1}).pretty().sort({\"EmpNo\":-1})\n",
    "              \n",
    "            { \"_id\" : ObjectId(\"5bb4652e8ae6092fa49586af\"), \"EmpNo\" : \"7\" }\n",
    "            { \"_id\" : ObjectId(\"5bb4652e8ae6092fa49586ae\"), \"EmpNo\" : \"6\" }\n",
    "            { \"_id\" : ObjectId(\"5bb4652e8ae6092fa49586ad\"), \"EmpNo\" : \"5\" }\n",
    "            { \"_id\" : ObjectId(\"5bb4652e8ae6092fa49586ac\"), \"EmpNo\" : \"4\" }\n",
    "            { \"_id\" : ObjectId(\"5bb4652e8ae6092fa49586ab\"), \"EmpNo\" : \"3\" }\n",
    "            { \"_id\" : ObjectId(\"5bb462788ae6092fa49586a6\") }\n",
    "\n"
   ]
  },
  {
   "cell_type": "markdown",
   "metadata": {},
   "source": [
    "### INDEX\n",
    "### Create Index\n",
    "#### SYNTAX : \n",
    "#### db.collection_name.ensureIndex({\"Index_filed\" : 1})"
   ]
  },
  {
   "cell_type": "markdown",
   "metadata": {},
   "source": [
    "#### db.Employee.ensureIndex({\"Email\":1})\n",
    "                {\n",
    "                    \"createdCollectionAutomatically\" : false,\n",
    "                    \"numIndexesBefore\" : 1,\n",
    "                    \"numIndexesAfter\" : 2,\n",
    "                    \"ok\" : 1\n",
    "                }\n",
    "\n",
    "It create indexes on Email field"
   ]
  },
  {
   "cell_type": "markdown",
   "metadata": {},
   "source": [
    "####  db.Employee.getIndexes()\n",
    "            [\n",
    "                {\n",
    "                    \"v\" : 2,\n",
    "                    \"key\" : {\n",
    "                        \"_id\" : 1\n",
    "                    },\n",
    "                    \"name\" : \"_id_\",\n",
    "                    \"ns\" : \"demo.Employee\"\n",
    "                },\n",
    "                {\n",
    "                    \"v\" : 2,\n",
    "                    \"key\" : {\n",
    "                        \"Email\" : 1\n",
    "                    },\n",
    "                    \"name\" : \"Email_1\",\n",
    "                    \"ns\" : \"demo.Employee\"\n",
    "                }\n",
    "            ]\n",
    "\n",
    "###### It get all indexes.\n",
    "                   {\n",
    "                    \"v\" : 2,\n",
    "                    \"key\" : {\n",
    "                        \"_id\" : 1\n",
    "                    },\n",
    "                    \"name\" : \"_id_\",\n",
    "                    \"ns\" : \"demo.Employee\"\n",
    "                }\n",
    "                \n",
    "                This is default index created by mongoDB"
   ]
  },
  {
   "cell_type": "markdown",
   "metadata": {},
   "source": [
    "### INDEX\n",
    "### DROP Index\n",
    "#### SYNTAX : \n",
    "#### db.collection_name.dropIndex({\"Index_filed\" : 1})"
   ]
  },
  {
   "cell_type": "markdown",
   "metadata": {},
   "source": [
    "#### > db.Employee.dropIndex({\"Email\":1})\n",
    "            { \"nIndexesWas\" : 2, \"ok\" : 1 }\n"
   ]
  },
  {
   "cell_type": "markdown",
   "metadata": {},
   "source": [
    "### AGGREGATION\n",
    "### 1. count\n",
    "#### SYNTAX :\n",
    "#### db.collection_name.aggregate([$group : {_id : \"Field_on_which_we_want_todo_aggregate\", \"RESULT_Field\" : {$operation:1}}])\n",
    "        \n",
    "        1 use to indicate no. of count want to add\n",
    "        \n",
    "\n"
   ]
  },
  {
   "cell_type": "markdown",
   "metadata": {},
   "source": [
    "#### db.Employee.aggregate([{$group : {_id : \"$Gender\" , Total : {$sum:1}}}])\n",
    "            { \"_id\" : \"Female\", \"Total\" : 3 }\n",
    "            { \"_id\" : \"Male\", \"Total\" : 3 }\n",
    "            { \"_id\" : null, \"Total\" : 1 }\n",
    "            \n",
    "   It increase count by 1\n",
    "   Here, we count no. of male and female\n"
   ]
  },
  {
   "cell_type": "markdown",
   "metadata": {},
   "source": [
    "####  db.Employee.aggregate([{$group : {_id : \"$Gender\" , Total : {$sum:2}}}])\n",
    "            { \"_id\" : \"Female\", \"Total\" : 6 }\n",
    "            { \"_id\" : \"Male\", \"Total\" : 6 }\n",
    "            { \"_id\" : null, \"Total\" : 2 }\n",
    "            \n",
    "    It increase count by 2\n",
    "  "
   ]
  },
  {
   "cell_type": "markdown",
   "metadata": {},
   "source": [
    "####  db.Employee.aggregate([{$group : {_id : \"$Gender\" , Total : {$sum:-1}}}])\n",
    "                { \"_id\" : \"Female\", \"Total\" : -3 }\n",
    "                { \"_id\" : \"Male\", \"Total\" : -3 }\n",
    "                { \"_id\" : null, \"Total\" : -1 }\n",
    "            \n",
    "   It increase count by 1 and give minus sign        \n",
    "    \n"
   ]
  },
  {
   "cell_type": "markdown",
   "metadata": {},
   "source": [
    "### 2. max\n",
    "#### SYNATX : \n",
    "#### db.collection_name.aggregate([{$group : {_id : \"Field_on_which_we_want_todo_aggregate\", \"Result_Field\" : {$operation:\"$Field_Name_Onwhich_Operation_Performed\"}}])"
   ]
  },
  {
   "cell_type": "raw",
   "metadata": {},
   "source": []
  },
  {
   "cell_type": "markdown",
   "metadata": {},
   "source": [
    "####  db.Employee.aggregate([{$group : {_id : \"$Gender\" , MaxAge : {$max:\"$Age\"}}}])\n",
    "                { \"_id\" : \"Female\", \"MaxAge\" : \"33\" }\n",
    "                { \"_id\" : \"Male\", \"MaxAge\" : \"45\" }\n",
    "                { \"_id\" : null, \"MaxAge\" : null }\n"
   ]
  },
  {
   "cell_type": "markdown",
   "metadata": {},
   "source": [
    "### 2. min\n",
    "#### SYNATX : \n",
    "#### db.collection_name.aggregate([{$group : {_id : \"Field_on_which_we_want_todo_aggregate\", \"Result_Field\" : {$operation:\"$Field_Name_Onwhich_Operation_Performed\"}}])"
   ]
  },
  {
   "cell_type": "markdown",
   "metadata": {},
   "source": [
    "####  db.Employee.aggregate([{$group : {_id : \"$Gender\" , MaxAge : {$min:\"$Age\"}}}])\n",
    "            { \"_id\" : \"Female\", \"MaxAge\" : \"26\" }\n",
    "            { \"_id\" : \"Male\", \"MaxAge\" : \"36\" }\n",
    "            { \"_id\" : null, \"MaxAge\" : null }\n"
   ]
  },
  {
   "cell_type": "markdown",
   "metadata": {},
   "source": [
    "##### We can perform other aggregate function like avg"
   ]
  },
  {
   "cell_type": "markdown",
   "metadata": {},
   "source": [
    "### BACKUP"
   ]
  },
  {
   "cell_type": "markdown",
   "metadata": {},
   "source": [
    "#### For all Databases\n",
    "#### icpl12900@icpl12900-OptiPlex-5050:~/dump$ mongodump\n",
    "                It create backup of all database in folder dump\n",
    "                In dump folder there is individual folder for each Database"
   ]
  },
  {
   "cell_type": "markdown",
   "metadata": {},
   "source": [
    "#### icpl12900@icpl12900-OptiPlex-5050:~$ cd dump $\n",
    "#### icpl12900@icpl12900-OptiPlex-5050:~/dump$ ls $\n",
    "                admin  demo\n",
    "#### icpl12900@icpl12900-OptiPlex-5050:~/dump$ cd demo $\n",
    "#### icpl12900@icpl12900-OptiPlex-5050:~/dump/demo$ ls  \n",
    "                Employee.bson  Employee.metadata.json\n",
    "\n"
   ]
  },
  {
   "cell_type": "markdown",
   "metadata": {},
   "source": [
    "#### For particular database\n",
    "#### icpl12900@icpl12900-OptiPlex-5050:~$ mongodump --db demo\n"
   ]
  },
  {
   "cell_type": "markdown",
   "metadata": {},
   "source": [
    "### RESTORE"
   ]
  },
  {
   "cell_type": "markdown",
   "metadata": {},
   "source": [
    "#### icpl12900@icpl12900-OptiPlex-5050:~/dump$ mongodump\n",
    "            It also create dump folder but only for particular database\n",
    "\n"
   ]
  },
  {
   "cell_type": "markdown",
   "metadata": {},
   "source": [
    "#### For restore particular Database \n",
    "#### SYNTAX :\n",
    "   ####  mongorestore --db database_name path_of_backup_folder\n",
    "#### mongorestore --db demo /dump/demo\n",
    "                    "
   ]
  },
  {
   "cell_type": "markdown",
   "metadata": {},
   "source": [
    "### BACKUP COLLECTION\n",
    "#### SYNTAX:\n",
    "        mongodump --db database_name --collection collection_name"
   ]
  },
  {
   "cell_type": "markdown",
   "metadata": {},
   "source": [
    "#### mongodump --db Employee --collection Employee\n",
    "     It create new folder inside dump of that database and take backup of collection which is specify"
   ]
  },
  {
   "cell_type": "markdown",
   "metadata": {},
   "source": [
    "### RESTORE COLLECTION\n",
    "#### SYNTAX:\n",
    "           mongodump --db Database_name --collection collection_name path "
   ]
  },
  {
   "cell_type": "markdown",
   "metadata": {},
   "source": [
    "#### mongorestore --db Employee --collection demo dump/demo/Employee.bson  \n"
   ]
  },
  {
   "cell_type": "markdown",
   "metadata": {},
   "source": [
    "# Usecase"
   ]
  },
  {
   "cell_type": "markdown",
   "metadata": {},
   "source": [
    "https://www.youtube.com/watch?v=vVx1737auSE"
   ]
  },
  {
   "cell_type": "markdown",
   "metadata": {},
   "source": [
    "# Architecture"
   ]
  },
  {
   "cell_type": "markdown",
   "metadata": {},
   "source": [
    "#### mongod\n",
    "\n",
    "mongod is primary process in MongoDB system. It does following –\n",
    "In which actual data is store\n",
    "Take care of data request\n",
    "It manages access to data\n",
    "It performs management operations at background\n",
    "\n",
    "#### mongos\n",
    "It is router. It is interface of our cluster. all operation from application client to cluster must go through mongos\n",
    "It does following –\n",
    "it get metadata from config server. route queries to shards. \n",
    "\n",
    "Determines the position of data in sharded cluster\n",
    "Plays an import role by forwarding request of client to correct shard server\n",
    "\n",
    "#### A replica set\n",
    "A replica set is group of mongod processes that maintains same data set. It provides redundancy in order to provide high availability.\n",
    "\n",
    "Replication is referred to the process of ensuring that the same data is available on more than one Mongo DB Server. This is sometimes required for the purpose of increasing data availability.\n",
    "\n",
    "Because if your main MongoDB Server goes down for any reason, there will be no access to the data. But if you had the data replicated to another server at regular intervals, you will be able to access the data from another server even if the primary server fails.\n",
    "\n",
    "Another purpose of replication is the possibility of load balancing. If there are many users connecting to the system, instead of having everyone connect to one system, users can be connected to multiple servers so that there is an equal distribution of the load.\n",
    "\n",
    "In MongoDB, multiple MongDB Servers are grouped in sets called Replica sets. The Replica set will have a primary server which will accept all the write operation from clients\n",
    "\n",
    "#### Config Servers\n",
    "Config Server stores the metadata for sharded cluster, they are the special mongod instances.\n",
    "metadata for shard store in config database . authentication configuration in admin database\n",
    "Production sharded cluster contains exactly 3 config servers. Here are the reasons for having 3 config servers:\n",
    "\n",
    "If our sharded cluster has only a single config server then it would become a single point of failure.\n",
    "In any case if config server is inaccessible then entire cluster would not be accessible.\n",
    "In the event, you are not able to recover data on config server then the cluster would become inoperable.\n",
    "information about the various mongodb instances which will hold the shard data.\n",
    "\n",
    "#### Shards\n",
    "A Shard – This is the basic thing, and this is nothing but a MongoDB instance which holds the subset of the data. In production environments, all shards need to be part of replica sets.\n",
    "\n",
    "Sharding is a concept in MongoDB, which splits large data sets into small data sets across multiple MongoDB instances.\n",
    "\n",
    "Sometimes the data within MongoDB will be so huge, that queries against such big data sets can cause a lot of CPU utilization on the server. To tackle this situation, MongoDB has a concept of Sharding, which is basically the splitting of data sets across multiple MongoDB instances.\n",
    "\n",
    "The collection which could be large in size is actually split across multiple collections or Shards as they are called. Logically all the shards work as one collection. \n",
    "\n",
    "shard key is index key that avaliable in every document. and do partition using hash table.\n",
    "\n",
    "properties to choose shard key \n",
    "1. large shard key cardinality means shard key must be unquie so that we can do partition properly and each shard contain balance load of data\n",
    "2. shard key must not be change after any operation \n",
    "so mostly use id as shard key\n",
    "\n",
    " \n"
   ]
  },
  {
   "cell_type": "code",
   "execution_count": null,
   "metadata": {
    "collapsed": true
   },
   "outputs": [],
   "source": []
  }
 ],
 "metadata": {
  "anaconda-cloud": {},
  "kernelspec": {
   "display_name": "Python [conda env:anaconda]",
   "language": "python",
   "name": "conda-env-anaconda-py"
  },
  "language_info": {
   "codemirror_mode": {
    "name": "ipython",
    "version": 2
   },
   "file_extension": ".py",
   "mimetype": "text/x-python",
   "name": "python",
   "nbconvert_exporter": "python",
   "pygments_lexer": "ipython2",
   "version": "2.7.12"
  }
 },
 "nbformat": 4,
 "nbformat_minor": 1
}
